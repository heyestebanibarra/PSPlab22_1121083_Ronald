{
 "cells": [
  {
   "cell_type": "code",
   "execution_count": 1,
   "metadata": {},
   "outputs": [],
   "source": [
    "#define a function to calculate the locational margina cost for all busses in a network\n",
    "\n",
    "#this part of the code is to upload the network with all the constrains\n",
    "\n",
    "import pandapower as pp\n",
    "import numpy as np\n",
    "net = pp.create_empty_network()\n",
    "\n",
    "#create buses\n",
    "bus1 = pp.create_bus(net,name=1, vn_kv=220.)\n",
    "bus2 = pp.create_bus(net,name=2, vn_kv=110.)\n",
    "bus3 = pp.create_bus(net,name=3, vn_kv=110.)\n",
    "bus4 = pp.create_bus(net,name=4, vn_kv=110.)\n",
    "\n",
    "#create 220/110 kV transformer\n",
    "pp.create_transformer(net, bus1, bus2, std_type=\"100 MVA 220/110 kV\") #we havent\n",
    "\n",
    "#create 110 kV lines\n",
    "pp.create_line(net, bus2, bus3, length_km=70., std_type='149-AL1/24-ST1A 110.0')\n",
    "pp.create_line(net, bus3, bus4, length_km=50., std_type='149-AL1/24-ST1A 110.0')\n",
    "pp.create_line(net, bus4, bus2, length_km=40., std_type='149-AL1/24-ST1A 110.0')\n",
    "\n",
    "#create loads\n",
    "pp.create_load(net, bus2, p_mw=60, controllable=False)\n",
    "pp.create_load(net, bus3, p_mw=70, controllable=False)\n",
    "pp.create_load(net, bus4, p_mw=10, controllable=False)\n",
    "\n",
    "#create generators\n",
    "eg = pp.create_ext_grid(net, bus1, min_p_mw=-1000, max_p_mw=1000)\n",
    "g0 = pp.create_gen(net, bus3, p_mw=80, min_p_mw=0, max_p_mw=80,  vm_pu=1.01, controllable=True)\n",
    "g1 = pp.create_gen(net, bus4, p_mw=100, min_p_mw=0, max_p_mw=100, vm_pu=1.01, controllable=True)\n",
    "\n",
    "net.trafo.loc[net.trafo.index[0],\"vkr_percent\"]=0\n",
    "net.trafo.loc[net.trafo.index[0],\"pfe_kw\"]=0\n",
    "\n",
    "costeg = pp.create_poly_cost(net, 0, 'ext_grid', cp1_eur_per_mw=10)\n",
    "costgen1 = pp.create_poly_cost(net, 0, 'gen', cp1_eur_per_mw=10)\n",
    "costgen2 = pp.create_poly_cost(net, 1, 'gen', cp1_eur_per_mw=10)\n",
    "\n",
    "net.poly_cost.cp1_eur_per_mw.at[costeg] = 10\n",
    "net.poly_cost.cp1_eur_per_mw.at[costgen1] = 15\n",
    "net.poly_cost.cp1_eur_per_mw.at[costgen2] = 12\n",
    "\n",
    "net.trafo[\"max_loading_percent\"] = 50\n",
    "\n",
    "net.line[\"max_loading_percent\"] = 50\n",
    "\n",
    "net.bus[\"min_vm_pu\"] = 1.0\n",
    "net.bus[\"max_vm_pu\"] = 1.02\n",
    "\n",
    "pp.runopp(net, delta=1e-16)"
   ]
  },
  {
   "cell_type": "code",
   "execution_count": 2,
   "metadata": {},
   "outputs": [],
   "source": [
    "def marginal_cost(net):   \n",
    "\n",
    "    cost1=net.res_cost # we calculate the costs before increasing the power on every bus\n",
    "    local=0\n",
    "    for x in range(len(net.bus)):\n",
    "        pp.create_load(net, bus=x, p_mw=1, controllable=False)\n",
    "        pp.runopp(net, delta=1e-16)\n",
    "        cost2=net.res_cost\n",
    "        marginal=cost2-cost1\n",
    "        print(\"The marginal cost for bus \"+str(x+1)+\" is: \"+str(marginal)+\" $/MWh\")\n",
    "        pp.create_load(net, bus=x, p_mw=-1, controllable=False) #this line deletes the previous augmented mega watt"
   ]
  },
  {
   "cell_type": "code",
   "execution_count": 3,
   "metadata": {},
   "outputs": [
    {
     "name": "stdout",
     "output_type": "stream",
     "text": [
      "The marginal cost for bus 1 is: 10.000004098038062 $/MWh\n",
      "The marginal cost for bus 2 is: 13.139940911419217 $/MWh\n",
      "The marginal cost for bus 3 is: 14.999595558321062 $/MWh\n",
      "The marginal cost for bus 4 is: 11.999847066879056 $/MWh\n"
     ]
    }
   ],
   "source": [
    "marginal_cost(net)\n",
    "\n",
    "#Results: for buses 1, 3 and 4 it is clear that the costs will be 10, 15 and 12, because those are the prices of production for the nearest power sources\n",
    "#that means, the generation is taken from the closest source. For bus 2 though, it takes a different percentage of every source"
   ]
  }
 ],
 "metadata": {
  "kernelspec": {
   "display_name": "base",
   "language": "python",
   "name": "python3"
  },
  "language_info": {
   "codemirror_mode": {
    "name": "ipython",
    "version": 3
   },
   "file_extension": ".py",
   "mimetype": "text/x-python",
   "name": "python",
   "nbconvert_exporter": "python",
   "pygments_lexer": "ipython3",
   "version": "3.9.13"
  },
  "orig_nbformat": 4,
  "vscode": {
   "interpreter": {
    "hash": "61e85246bbf6686ff296c51d4185c0e1645db1bcaec79f49858c9b8184737955"
   }
  }
 },
 "nbformat": 4,
 "nbformat_minor": 2
}

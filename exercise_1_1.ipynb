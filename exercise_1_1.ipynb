{
 "cells": [
  {
   "cell_type": "code",
   "execution_count": 5,
   "metadata": {},
   "outputs": [],
   "source": [
    "#Exercise 1.1. Load curves and capacity factor\n",
    "#Find the daily consumption (actual and forecasted) for Germany for your birthday in the last\n",
    "#year from this website: www.smard.de/en/marktdaten and download the data. Set up a jupyter\n",
    "#notebook and plot the daily load curve. Derive the load duration curve from it and plot it. How\n",
    "#large is the capacity factor for this day? What is the peak-to-minimum and the peak-to-mean\n",
    "#power ratio?"
   ]
  },
  {
   "cell_type": "code",
   "execution_count": null,
   "metadata": {},
   "outputs": [],
   "source": [
    "print"
   ]
  }
 ],
 "metadata": {
  "kernelspec": {
   "display_name": "Python 3.9.13 ('base')",
   "language": "python",
   "name": "python3"
  },
  "language_info": {
   "codemirror_mode": {
    "name": "ipython",
    "version": 3
   },
   "file_extension": ".py",
   "mimetype": "text/x-python",
   "name": "python",
   "nbconvert_exporter": "python",
   "pygments_lexer": "ipython3",
   "version": "3.9.13"
  },
  "orig_nbformat": 4,
  "vscode": {
   "interpreter": {
    "hash": "61e85246bbf6686ff296c51d4185c0e1645db1bcaec79f49858c9b8184737955"
   }
  }
 },
 "nbformat": 4,
 "nbformat_minor": 2
}
